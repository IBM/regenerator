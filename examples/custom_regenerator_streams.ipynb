{
 "cells": [
  {
   "cell_type": "markdown",
   "metadata": {},
   "source": [
    "# Defining custom ReGenerator Streams"
   ]
  },
  {
   "cell_type": "code",
   "execution_count": 1,
   "metadata": {},
   "outputs": [],
   "source": [
    "from regenerator import Stream"
   ]
  },
  {
   "cell_type": "markdown",
   "metadata": {},
   "source": [
    "## Random Stream"
   ]
  },
  {
   "cell_type": "code",
   "execution_count": 2,
   "metadata": {},
   "outputs": [],
   "source": [
    "import random\n",
    "\n",
    "class RandomStream(Stream):\n",
    "    def __init__(self, n):\n",
    "        rng = random.Random()\n",
    "        generator_func = lambda: (rng.random() for _ in range(n))\n",
    "        super().__init__(generator_func)"
   ]
  },
  {
   "cell_type": "code",
   "execution_count": null,
   "metadata": {},
   "outputs": [],
   "source": []
  },
  {
   "cell_type": "code",
   "execution_count": 3,
   "metadata": {},
   "outputs": [],
   "source": [
    "random_stream = RandomStream(n=12)"
   ]
  },
  {
   "cell_type": "code",
   "execution_count": 4,
   "metadata": {},
   "outputs": [
    {
     "data": {
      "text/plain": [
       "[0.6007982472715498,\n",
       " 0.12254225808870634,\n",
       " 0.5413913892923514,\n",
       " 0.5177912632055494,\n",
       " 0.8051335025663555,\n",
       " 0.8142244879837903,\n",
       " 0.6839810781533345,\n",
       " 0.5100139312069979,\n",
       " 0.926424258658513,\n",
       " 0.08626446383349706,\n",
       " 0.0796097664316513,\n",
       " 0.7002708449032956]"
      ]
     },
     "execution_count": 4,
     "metadata": {},
     "output_type": "execute_result"
    }
   ],
   "source": [
    "list(random_stream)"
   ]
  },
  {
   "cell_type": "code",
   "execution_count": 5,
   "metadata": {},
   "outputs": [
    {
     "data": {
      "text/plain": [
       "[0.6503531039530327,\n",
       " 0.09858478854264763,\n",
       " 0.7360587563217595,\n",
       " 0.11939601364851593,\n",
       " 0.17299613867520258,\n",
       " 0.13185856066373491,\n",
       " 0.45759838642673023,\n",
       " 0.8824351682646345,\n",
       " 0.4247023722437224,\n",
       " 0.6149565189587386,\n",
       " 0.7956644870742651,\n",
       " 0.21945222094695815]"
      ]
     },
     "execution_count": 5,
     "metadata": {},
     "output_type": "execute_result"
    }
   ],
   "source": [
    "list(random_stream)"
   ]
  },
  {
   "cell_type": "code",
   "execution_count": 6,
   "metadata": {},
   "outputs": [
    {
     "data": {
      "text/plain": [
       "12"
      ]
     },
     "execution_count": 6,
     "metadata": {},
     "output_type": "execute_result"
    }
   ],
   "source": [
    "len(random_stream)"
   ]
  },
  {
   "cell_type": "code",
   "execution_count": 7,
   "metadata": {},
   "outputs": [],
   "source": [
    "fixed_random_stream = random_stream.fix()"
   ]
  },
  {
   "cell_type": "code",
   "execution_count": 8,
   "metadata": {},
   "outputs": [
    {
     "data": {
      "text/plain": [
       "[0.7995522830520194,\n",
       " 0.7937458919881137,\n",
       " 0.8411489325375757,\n",
       " 0.33804523828941047,\n",
       " 0.49596669084275957,\n",
       " 0.021848705174118077,\n",
       " 0.5615790451347555,\n",
       " 0.6884949808593184,\n",
       " 0.2157847669835531,\n",
       " 0.9766113541314846,\n",
       " 0.7966019502259258,\n",
       " 0.48220757835565187]"
      ]
     },
     "execution_count": 8,
     "metadata": {},
     "output_type": "execute_result"
    }
   ],
   "source": [
    "list(fixed_random_stream)"
   ]
  },
  {
   "cell_type": "code",
   "execution_count": 9,
   "metadata": {},
   "outputs": [
    {
     "data": {
      "text/plain": [
       "[0.7995522830520194,\n",
       " 0.7937458919881137,\n",
       " 0.8411489325375757,\n",
       " 0.33804523828941047,\n",
       " 0.49596669084275957,\n",
       " 0.021848705174118077,\n",
       " 0.5615790451347555,\n",
       " 0.6884949808593184,\n",
       " 0.2157847669835531,\n",
       " 0.9766113541314846,\n",
       " 0.7966019502259258,\n",
       " 0.48220757835565187]"
      ]
     },
     "execution_count": 9,
     "metadata": {},
     "output_type": "execute_result"
    }
   ],
   "source": [
    "list(fixed_random_stream)"
   ]
  },
  {
   "cell_type": "code",
   "execution_count": 10,
   "metadata": {},
   "outputs": [
    {
     "data": {
      "text/plain": [
       "[0.8068699417115784,\n",
       " 0.07390403584892136,\n",
       " 0.6069059296337062,\n",
       " 0.8949762197095134,\n",
       " 0.2883148995311118,\n",
       " 0.7931516669544714,\n",
       " 0.44496492312002955,\n",
       " 0.9249099170354014,\n",
       " 0.30420282976326074,\n",
       " 0.2864567238255289,\n",
       " 0.11533791095108048,\n",
       " 0.15079714950421497]"
      ]
     },
     "execution_count": 10,
     "metadata": {},
     "output_type": "execute_result"
    }
   ],
   "source": [
    "list(random_stream)"
   ]
  },
  {
   "cell_type": "code",
   "execution_count": 11,
   "metadata": {},
   "outputs": [
    {
     "data": {
      "text/plain": [
       "__main__.RandomStream"
      ]
     },
     "execution_count": 11,
     "metadata": {},
     "output_type": "execute_result"
    }
   ],
   "source": [
    "type(random_stream.zip(random_stream))"
   ]
  },
  {
   "cell_type": "code",
   "execution_count": 12,
   "metadata": {},
   "outputs": [],
   "source": [
    "import matplotlib.pyplot as plt\n",
    "import matplotlib\n",
    "%matplotlib inline"
   ]
  },
  {
   "cell_type": "code",
   "execution_count": 13,
   "metadata": {},
   "outputs": [
    {
     "data": {
      "image/png": "[encoded data removed]",
      "text/plain": [
       "<Figure size 432x288 with 1 Axes>"
      ]
     },
     "metadata": {
      "needs_background": "light"
     },
     "output_type": "display_data"
    }
   ],
   "source": [
    "plt.plot(fixed_random_stream);"
   ]
  },
  {
   "cell_type": "code",
   "execution_count": 14,
   "metadata": {},
   "outputs": [
    {
     "data": {
      "image/png": "[encoded data removed]",
      "text/plain": [
       "<Figure size 432x288 with 1 Axes>"
      ]
     },
     "metadata": {
      "needs_background": "light"
     },
     "output_type": "display_data"
    }
   ],
   "source": [
    "plt.bar(range(100), RandomStream(100));"
   ]
  },
  {
   "cell_type": "code",
   "execution_count": null,
   "metadata": {},
   "outputs": [],
   "source": []
  }
 ],
 "metadata": {
  "kernelspec": {
   "display_name": "Python 3",
   "language": "python",
   "name": "python3"
  },
  "language_info": {
   "codemirror_mode": {
    "name": "ipython",
    "version": 3
   },
   "file_extension": ".py",
   "mimetype": "text/x-python",
   "name": "python",
   "nbconvert_exporter": "python",
   "pygments_lexer": "ipython3",
   "version": "3.7.5"
  }
 },
 "nbformat": 4,
 "nbformat_minor": 2
}
