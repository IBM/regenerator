{
 "cells": [
  {
   "cell_type": "markdown",
   "metadata": {},
   "source": [
    "# Defining custom ReGenerator Streams"
   ]
  },
  {
   "cell_type": "code",
   "execution_count": 1,
   "metadata": {},
   "outputs": [],
   "source": [
    "from regenerator import Stream"
   ]
  },
  {
   "cell_type": "markdown",
   "metadata": {},
   "source": [
    "## Random Stream"
   ]
  },
  {
   "cell_type": "code",
   "execution_count": 2,
   "metadata": {},
   "outputs": [],
   "source": [
    "import random\n",
    "\n",
    "class RandomStream(Stream):\n",
    "    def __init__(self, n):\n",
    "        rng = random.Random()\n",
    "        generator_func = lambda: (rng.random() for _ in range(n))\n",
    "        super().__init__(generator_func)"
   ]
  },
  {
   "cell_type": "code",
   "execution_count": null,
   "metadata": {},
   "outputs": [],
   "source": []
  },
  {
   "cell_type": "code",
   "execution_count": 3,
   "metadata": {},
   "outputs": [
    {
     "data": {
      "text/plain": [
       "<RandomStream>: 0.830298341322241, 0.15163478793971696, 0.5761642283829141, 0.48301968609036416, 0.4713535811859211, ..."
      ]
     },
     "execution_count": 3,
     "metadata": {},
     "output_type": "execute_result"
    }
   ],
   "source": [
    "random_stream = RandomStream(n=12)\n",
    "random_stream"
   ]
  },
  {
   "cell_type": "code",
   "execution_count": 4,
   "metadata": {},
   "outputs": [
    {
     "data": {
      "text/plain": [
       "[0.41302121939465564,\n",
       " 0.25813461571446794,\n",
       " 0.2142632934857558,\n",
       " 0.523084294737095,\n",
       " 0.2635014498771925,\n",
       " 0.19441008738236942,\n",
       " 0.02328273262975844,\n",
       " 0.46646976240952376,\n",
       " 0.7931792170172078,\n",
       " 0.22467063615773653,\n",
       " 0.7858725321862945,\n",
       " 0.9293015824689771]"
      ]
     },
     "execution_count": 4,
     "metadata": {},
     "output_type": "execute_result"
    }
   ],
   "source": [
    "list(random_stream)"
   ]
  },
  {
   "cell_type": "code",
   "execution_count": 5,
   "metadata": {},
   "outputs": [
    {
     "data": {
      "text/plain": [
       "[0.7172678335918466,\n",
       " 0.20945713465098126,\n",
       " 0.9283538818156417,\n",
       " 0.6596482623364918,\n",
       " 0.6601697816534844,\n",
       " 0.12535051972284494,\n",
       " 0.6484452711081017,\n",
       " 0.6922383112716782,\n",
       " 0.894631373110343,\n",
       " 0.6455281529999162,\n",
       " 0.037024632510244015,\n",
       " 0.8587239244790108]"
      ]
     },
     "execution_count": 5,
     "metadata": {},
     "output_type": "execute_result"
    }
   ],
   "source": [
    "list(random_stream)"
   ]
  },
  {
   "cell_type": "code",
   "execution_count": 6,
   "metadata": {},
   "outputs": [
    {
     "data": {
      "text/plain": [
       "12"
      ]
     },
     "execution_count": 6,
     "metadata": {},
     "output_type": "execute_result"
    }
   ],
   "source": [
    "len(random_stream)"
   ]
  },
  {
   "cell_type": "code",
   "execution_count": 7,
   "metadata": {},
   "outputs": [
    {
     "data": {
      "text/plain": [
       "<RandomStream>: 0.80228393016808, 0.6554069311258511, 0.6979188477974139, 0.311951601750578, 0.9133002197631591, ..."
      ]
     },
     "execution_count": 7,
     "metadata": {},
     "output_type": "execute_result"
    }
   ],
   "source": [
    "fixed_random_stream = random_stream.fix()\n",
    "fixed_random_stream"
   ]
  },
  {
   "cell_type": "code",
   "execution_count": 8,
   "metadata": {},
   "outputs": [
    {
     "data": {
      "text/plain": [
       "[0.80228393016808,\n",
       " 0.6554069311258511,\n",
       " 0.6979188477974139,\n",
       " 0.311951601750578,\n",
       " 0.9133002197631591,\n",
       " 0.38443482060808143,\n",
       " 0.01911392588974592,\n",
       " 0.2677509698330556,\n",
       " 0.38674905081459865,\n",
       " 0.3297722374955694,\n",
       " 0.712477134871016,\n",
       " 0.9705054346234473]"
      ]
     },
     "execution_count": 8,
     "metadata": {},
     "output_type": "execute_result"
    }
   ],
   "source": [
    "list(fixed_random_stream)"
   ]
  },
  {
   "cell_type": "code",
   "execution_count": 9,
   "metadata": {},
   "outputs": [
    {
     "data": {
      "text/plain": [
       "[0.80228393016808,\n",
       " 0.6554069311258511,\n",
       " 0.6979188477974139,\n",
       " 0.311951601750578,\n",
       " 0.9133002197631591,\n",
       " 0.38443482060808143,\n",
       " 0.01911392588974592,\n",
       " 0.2677509698330556,\n",
       " 0.38674905081459865,\n",
       " 0.3297722374955694,\n",
       " 0.712477134871016,\n",
       " 0.9705054346234473]"
      ]
     },
     "execution_count": 9,
     "metadata": {},
     "output_type": "execute_result"
    }
   ],
   "source": [
    "list(fixed_random_stream)"
   ]
  },
  {
   "cell_type": "code",
   "execution_count": 10,
   "metadata": {},
   "outputs": [
    {
     "data": {
      "text/plain": [
       "[0.835192635053758,\n",
       " 0.8861820518876999,\n",
       " 0.1860387786707728,\n",
       " 0.7618150739095361,\n",
       " 0.6716989642452369,\n",
       " 0.6818759446561834,\n",
       " 0.1379383944705158,\n",
       " 0.9200471167384354,\n",
       " 0.11087188414326477,\n",
       " 0.3157769372178372,\n",
       " 0.9485642205249599,\n",
       " 0.25469911374671295]"
      ]
     },
     "execution_count": 10,
     "metadata": {},
     "output_type": "execute_result"
    }
   ],
   "source": [
    "list(random_stream)"
   ]
  },
  {
   "cell_type": "code",
   "execution_count": 11,
   "metadata": {},
   "outputs": [
    {
     "data": {
      "text/plain": [
       "__main__.RandomStream"
      ]
     },
     "execution_count": 11,
     "metadata": {},
     "output_type": "execute_result"
    }
   ],
   "source": [
    "type(random_stream.zip(random_stream))"
   ]
  },
  {
   "cell_type": "code",
   "execution_count": 12,
   "metadata": {},
   "outputs": [],
   "source": [
    "import matplotlib.pyplot as plt\n",
    "import matplotlib\n",
    "%matplotlib inline"
   ]
  },
  {
   "cell_type": "code",
   "execution_count": 13,
   "metadata": {},
   "outputs": [
    {
     "data": {
      "image/png": "[encoded data removed]",
      "text/plain": [
       "<Figure size 432x288 with 1 Axes>"
      ]
     },
     "metadata": {
      "needs_background": "light"
     },
     "output_type": "display_data"
    }
   ],
   "source": [
    "plt.plot(fixed_random_stream);"
   ]
  },
  {
   "cell_type": "code",
   "execution_count": 14,
   "metadata": {},
   "outputs": [
    {
     "data": {
      "image/png": "[encoded data removed]",
      "text/plain": [
       "<Figure size 432x288 with 1 Axes>"
      ]
     },
     "metadata": {
      "needs_background": "light"
     },
     "output_type": "display_data"
    }
   ],
   "source": [
    "plt.bar(range(100), RandomStream(100));"
   ]
  },
  {
   "cell_type": "code",
   "execution_count": null,
   "metadata": {},
   "outputs": [],
   "source": []
  }
 ],
 "metadata": {
  "kernelspec": {
   "display_name": "Python 3",
   "language": "python",
   "name": "python3"
  },
  "language_info": {
   "codemirror_mode": {
    "name": "ipython",
    "version": 3
   },
   "file_extension": ".py",
   "mimetype": "text/x-python",
   "name": "python",
   "nbconvert_exporter": "python",
   "pygments_lexer": "ipython3",
   "version": "3.8.6"
  }
 },
 "nbformat": 4,
 "nbformat_minor": 2
}
